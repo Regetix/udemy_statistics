{
 "cells": [
  {
   "cell_type": "code",
   "execution_count": 1,
   "id": "0ca099e0-73a3-4d0e-a52c-46f6f8a37314",
   "metadata": {},
   "outputs": [],
   "source": [
    "import numpy as np\n",
    "import pandas as pd\n",
    "import matplotlib.pyplot as plt\n",
    "# np.random.seed(101)"
   ]
  },
  {
   "cell_type": "code",
   "execution_count": 2,
   "id": "15ad2038-4c05-4637-9ac9-7e75597fbe45",
   "metadata": {},
   "outputs": [],
   "source": [
    "sample_space = np.array(np.random.randint(1,100,100),dtype=np.int8)\n",
    "for i in range(5):\n",
    "    if i == 0: continue\n",
    "    sample_space = np.append(sample_space, np.random.randint(100-(i*100),100+(i*100),int(10**6/10**i)))\n",
    "sample_space = sample_space[sample_space>0]"
   ]
  },
  {
   "cell_type": "code",
   "execution_count": 3,
   "id": "968516fe-f6a1-44d3-b866-069d514dd255",
   "metadata": {
    "panel-layout": {
     "height": 1208.078125,
     "visible": true,
     "width": 100
    }
   },
   "outputs": [
    {
     "data": {
      "text/plain": [
       "(array([2.574e+03, 2.700e+03, 2.655e+03, 2.592e+03, 2.711e+03, 2.589e+03,\n",
       "        2.626e+03, 2.662e+03, 2.573e+03, 2.660e+03, 2.685e+03, 2.653e+03,\n",
       "        2.622e+03, 2.629e+03, 2.709e+03, 2.662e+03, 2.639e+03, 2.727e+03,\n",
       "        2.677e+03, 2.699e+03, 2.602e+03, 2.632e+03, 2.625e+03, 2.533e+03,\n",
       "        2.662e+03, 2.619e+03, 2.584e+03, 2.687e+03, 2.602e+03, 2.632e+03,\n",
       "        2.685e+03, 2.594e+03, 2.595e+03, 2.561e+03, 2.602e+03, 2.616e+03,\n",
       "        2.622e+03, 2.677e+03, 2.611e+03, 2.159e+03, 1.320e+02, 1.460e+02,\n",
       "        1.460e+02, 1.270e+02, 1.380e+02, 1.430e+02, 1.350e+02, 1.400e+02,\n",
       "        1.400e+02, 1.150e+02, 1.150e+02, 1.280e+02, 1.400e+02, 1.490e+02,\n",
       "        1.490e+02, 1.450e+02, 1.250e+02, 1.190e+02, 1.210e+02, 1.370e+02,\n",
       "        1.000e+01, 9.000e+00, 7.000e+00, 9.000e+00, 4.000e+00, 5.000e+00,\n",
       "        1.100e+01, 9.000e+00, 7.000e+00, 4.000e+00, 9.000e+00, 1.100e+01,\n",
       "        1.000e+01, 1.000e+01, 1.500e+01, 1.100e+01, 4.000e+00, 1.200e+01,\n",
       "        1.400e+01, 5.000e+00, 1.000e+00, 1.000e+00, 1.000e+00, 0.000e+00,\n",
       "        0.000e+00, 1.000e+00, 1.000e+00, 0.000e+00, 1.000e+00, 0.000e+00,\n",
       "        0.000e+00, 0.000e+00, 0.000e+00, 1.000e+00, 0.000e+00, 0.000e+00,\n",
       "        0.000e+00, 0.000e+00, 2.000e+00, 2.000e+00]),\n",
       " array([  1.  ,   5.98,  10.96,  15.94,  20.92,  25.9 ,  30.88,  35.86,\n",
       "         40.84,  45.82,  50.8 ,  55.78,  60.76,  65.74,  70.72,  75.7 ,\n",
       "         80.68,  85.66,  90.64,  95.62, 100.6 , 105.58, 110.56, 115.54,\n",
       "        120.52, 125.5 , 130.48, 135.46, 140.44, 145.42, 150.4 , 155.38,\n",
       "        160.36, 165.34, 170.32, 175.3 , 180.28, 185.26, 190.24, 195.22,\n",
       "        200.2 , 205.18, 210.16, 215.14, 220.12, 225.1 , 230.08, 235.06,\n",
       "        240.04, 245.02, 250.  , 254.98, 259.96, 264.94, 269.92, 274.9 ,\n",
       "        279.88, 284.86, 289.84, 294.82, 299.8 , 304.78, 309.76, 314.74,\n",
       "        319.72, 324.7 , 329.68, 334.66, 339.64, 344.62, 349.6 , 354.58,\n",
       "        359.56, 364.54, 369.52, 374.5 , 379.48, 384.46, 389.44, 394.42,\n",
       "        399.4 , 404.38, 409.36, 414.34, 419.32, 424.3 , 429.28, 434.26,\n",
       "        439.24, 444.22, 449.2 , 454.18, 459.16, 464.14, 469.12, 474.1 ,\n",
       "        479.08, 484.06, 489.04, 494.02, 499.  ]),\n",
       " <BarContainer object of 100 artists>)"
      ]
     },
     "execution_count": 3,
     "metadata": {},
     "output_type": "execute_result"
    },
    {
     "data": {
      "image/png": "[encoded data removed]",
      "text/plain": [
       "<Figure size 640x480 with 1 Axes>"
      ]
     },
     "metadata": {},
     "output_type": "display_data"
    }
   ],
   "source": [
    "plt.hist(sample_space,bins=100)"
   ]
  },
  {
   "cell_type": "code",
   "execution_count": 4,
   "id": "6da07f6c-159c-40d0-a6ec-262ddf3a6d4b",
   "metadata": {},
   "outputs": [],
   "source": [
    "def CLT_maker(data:np.array,n:int,m:int):\n",
    "    clt_array:np.array = np.array([])\n",
    "    for i in range(n):\n",
    "        random_index = np.random.randint(0,data.size,m) \n",
    "        clt_array = np.append(clt_array,data[random_index].mean())\n",
    "    # print(random_index)\n",
    "    return clt_array"
   ]
  },
  {
   "cell_type": "code",
   "execution_count": 5,
   "id": "8731dcb9-e942-49fd-98fd-380dda7bc667",
   "metadata": {
    "panel-layout": {
     "height": 1088.09375,
     "visible": true,
     "width": 100
    }
   },
   "outputs": [
    {
     "data": {
      "text/plain": [
       "(array([  1.,   3.,   0.,   2.,   4.,   6.,   3.,   8.,  14.,  10.,  10.,\n",
       "         27.,  18.,  37.,  26.,  42.,  50.,  51.,  67.,  85.,  97., 112.,\n",
       "        116., 140., 109., 179., 163., 177., 201., 224., 224., 229., 254.,\n",
       "        310., 260., 314., 293., 271., 308., 310., 279., 280., 262., 277.,\n",
       "        314., 255., 272., 249., 238., 235., 240., 237., 207., 217., 172.,\n",
       "        157., 159., 126., 130.,  96., 106., 112.,  84.,  79.,  58.,  52.,\n",
       "         63.,  47.,  38.,  28.,  22.,  31.,  21.,  20.,  14.,  16.,  10.,\n",
       "          7.,   7.,   5.,   4.,   1.,   2.,   4.,   5.,   0.,   0.,   1.,\n",
       "          1.,   1.,   1.,   0.,   0.,   0.,   1.,   1.,   0.,   0.,   0.,\n",
       "          1.]),\n",
       " array([ 16.4 ,  18.52,  20.64,  22.76,  24.88,  27.  ,  29.12,  31.24,\n",
       "         33.36,  35.48,  37.6 ,  39.72,  41.84,  43.96,  46.08,  48.2 ,\n",
       "         50.32,  52.44,  54.56,  56.68,  58.8 ,  60.92,  63.04,  65.16,\n",
       "         67.28,  69.4 ,  71.52,  73.64,  75.76,  77.88,  80.  ,  82.12,\n",
       "         84.24,  86.36,  88.48,  90.6 ,  92.72,  94.84,  96.96,  99.08,\n",
       "        101.2 , 103.32, 105.44, 107.56, 109.68, 111.8 , 113.92, 116.04,\n",
       "        118.16, 120.28, 122.4 , 124.52, 126.64, 128.76, 130.88, 133.  ,\n",
       "        135.12, 137.24, 139.36, 141.48, 143.6 , 145.72, 147.84, 149.96,\n",
       "        152.08, 154.2 , 156.32, 158.44, 160.56, 162.68, 164.8 , 166.92,\n",
       "        169.04, 171.16, 173.28, 175.4 , 177.52, 179.64, 181.76, 183.88,\n",
       "        186.  , 188.12, 190.24, 192.36, 194.48, 196.6 , 198.72, 200.84,\n",
       "        202.96, 205.08, 207.2 , 209.32, 211.44, 213.56, 215.68, 217.8 ,\n",
       "        219.92, 222.04, 224.16, 226.28, 228.4 ]),\n",
       " <BarContainer object of 100 artists>)"
      ]
     },
     "execution_count": 5,
     "metadata": {},
     "output_type": "execute_result"
    },
    {
     "data": {
      "image/png": "[encoded data removed]",
      "text/plain": [
       "<Figure size 640x480 with 1 Axes>"
      ]
     },
     "metadata": {},
     "output_type": "display_data"
    }
   ],
   "source": [
    "clt = CLT_maker(sample_space,int(1e4),5)\n",
    "plt.hist(clt,bins=100)"
   ]
  },
  {
   "cell_type": "code",
   "execution_count": 6,
   "id": "0850033b-1da8-493f-8b19-608de4bdd299",
   "metadata": {
    "panel-layout": {
     "height": 701,
     "visible": true,
     "width": 100
    }
   },
   "outputs": [
    {
     "name": "stdout",
     "output_type": "stream",
     "text": [
      "107821\n",
      "10000\n"
     ]
    }
   ],
   "source": [
    "print(sample_space.size)\n",
    "print(clt.size)"
   ]
  },
  {
   "cell_type": "code",
   "execution_count": 7,
   "id": "354b7e13-2ab4-4761-ad6d-a0992f26a7fe",
   "metadata": {
    "panel-layout": {
     "height": 701,
     "visible": true,
     "width": 100
    }
   },
   "outputs": [
    {
     "name": "stdout",
     "output_type": "stream",
     "text": [
      "yes\n",
      "clt std: 104.06536 and Sample space std would be: 104.04220\n"
     ]
    }
   ],
   "source": [
    "if (int(clt.mean())==int(sample_space.mean())): print('yes')\n",
    "print(f'clt std: {clt.mean():.5f} and Sample space std would be: {sample_space.mean():.5f}')"
   ]
  },
  {
   "cell_type": "code",
   "execution_count": 18,
   "id": "b97332d2-4709-4d8c-b00c-99f99e3142d4",
   "metadata": {
    "panel-layout": {
     "height": 701,
     "visible": true,
     "width": 100
    }
   },
   "outputs": [
    {
     "name": "stdout",
     "output_type": "stream",
     "text": [
      "clt std: 27.91423 and Sample space std would be: 0.18987\n"
     ]
    }
   ],
   "source": [
    "print(f'clt std: {clt.std():.5f} and Sample space std would be: {sample_space.std()/np.sqrt(sample_space.size):.5f}')"
   ]
  },
  {
   "cell_type": "code",
   "execution_count": 19,
   "id": "ac890c33-5a89-46f9-b0b3-d903287fece9",
   "metadata": {
    "panel-layout": {
     "height": 728.140625,
     "visible": true,
     "width": 100
    }
   },
   "outputs": [
    {
     "data": {
      "text/plain": [
       "100.0"
      ]
     },
     "execution_count": 19,
     "metadata": {},
     "output_type": "execute_result"
    }
   ],
   "source": [
    "np.sqrt(clt.size)"
   ]
  },
  {
   "cell_type": "code",
   "execution_count": 20,
   "id": "d6e9d313-26f3-42b0-ad63-6ca5dd991414",
   "metadata": {
    "panel-layout": {
     "height": 728.140625,
     "visible": true,
     "width": 100
    }
   },
   "outputs": [
    {
     "data": {
      "text/plain": [
       "0.6234556650321659"
      ]
     },
     "execution_count": 20,
     "metadata": {},
     "output_type": "execute_result"
    }
   ],
   "source": [
    "sample_space.std()/100"
   ]
  },
  {
   "cell_type": "code",
   "execution_count": 21,
   "id": "792ca22f-8bf5-4059-b271-0cd8ff964a90",
   "metadata": {},
   "outputs": [],
   "source": [
    "def sigmoid_func(num:float):\n",
    "    answer= np.float16(1/(1+np.power(np.e,-num)))\n",
    "    return answer"
   ]
  },
  {
   "cell_type": "code",
   "execution_count": 23,
   "id": "4a888d4d-8c34-4824-8b78-cf314ae3c272",
   "metadata": {},
   "outputs": [
    {
     "name": "stdout",
     "output_type": "stream",
     "text": [
      "1.0000000000\n"
     ]
    }
   ],
   "source": [
    "s=sigmoid_func(9)\n",
    "print(f'{s:.10f}')"
   ]
  },
  {
   "cell_type": "code",
   "execution_count": null,
   "id": "211a2f31-5217-4ea8-b78b-c3aea4323848",
   "metadata": {},
   "outputs": [],
   "source": []
  }
 ],
 "metadata": {
  "kernelspec": {
   "display_name": "Python 3 (ipykernel)",
   "language": "python",
   "name": "python3"
  },
  "language_info": {
   "codemirror_mode": {
    "name": "ipython",
    "version": 3
   },
   "file_extension": ".py",
   "mimetype": "text/x-python",
   "name": "python",
   "nbconvert_exporter": "python",
   "pygments_lexer": "ipython3",
   "version": "3.12.7"
  },
  "panel-cell-order": [
   "968516fe-f6a1-44d3-b866-069d514dd255",
   "8731dcb9-e942-49fd-98fd-380dda7bc667",
   "0850033b-1da8-493f-8b19-608de4bdd299",
   "354b7e13-2ab4-4761-ad6d-a0992f26a7fe",
   "b97332d2-4709-4d8c-b00c-99f99e3142d4",
   "ac890c33-5a89-46f9-b0b3-d903287fece9",
   "d6e9d313-26f3-42b0-ad63-6ca5dd991414"
  ]
 },
 "nbformat": 4,
 "nbformat_minor": 5
}
