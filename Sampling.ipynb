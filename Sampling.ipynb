{
 "cells": [
  {
   "cell_type": "markdown",
   "id": "72a201b2-e104-41a2-9861-f4b50babd3a2",
   "metadata": {},
   "source": [
    "# Sampling"
   ]
  },
  {
   "cell_type": "markdown",
   "id": "c53e6e02-d6b7-46cd-88ed-67a5b4c6e028",
   "metadata": {},
   "source": [
    "It is obvious we can't choose everyone in a population for an experiment. Perhpas, it is time consuming, complex, or even you can't be sure that you have gathered everyone or other problems could occur too. So instead we choose a smaller portion of the population that is kind of representative of the main population which we call it **Sample**."
   ]
  },
  {
   "cell_type": "markdown",
   "id": "561019ad-2828-49f0-a862-1ec2216df846",
   "metadata": {},
   "source": [
    "The main deal is the proper sample choosing because the main goal of sampling is **Inference** and you need a sample that is really representative of the main population. This is difficult since it's hard to fully guarantee that the population is completely represents the whole population."
   ]
  },
  {
   "cell_type": "markdown",
   "id": "ac7a5518-0eb6-4830-8416-a4b235f3bc7c",
   "metadata": {},
   "source": [
    "Before talking about how to choose our samples, i should talk about some concepts."
   ]
  },
  {
   "cell_type": "markdown",
   "id": "a7e1ea38-e9a5-46bc-a437-9324d06e14f1",
   "metadata": {},
   "source": [
    "There are two key points:\n",
    "- Statistics is referring to analyze and summary of a certain **Sample**. (e.g.: Average of scores among random choosen students)\n",
    "- Parameter however, is the property of the main **population** itself that has been summarized (e.g.: Average score of all students in a school)"
   ]
  },
  {
   "cell_type": "markdown",
   "id": "68841740-ef45-4aeb-8970-92a1d4ec2cca",
   "metadata": {},
   "source": [
    "## Sampling methods"
   ]
  },
  {
   "cell_type": "markdown",
   "id": "d10d8f91-6cef-4b49-a41e-9ae2dce53175",
   "metadata": {},
   "source": [
    "### Probability sampling"
   ]
  },
  {
   "cell_type": "markdown",
   "id": "afe930a7-0b6f-4060-99e1-19c472183a17",
   "metadata": {},
   "source": [
    "#### Simple random sampling"
   ]
  },
  {
   "cell_type": "markdown",
   "id": "04a40e70-2416-4177-ac12-50ab38fc8a9f",
   "metadata": {},
   "source": [
    "Collect data in a way that all elements in the population should be equally likely to be included in sample data. Usually it is performed by a random number generator. \n",
    "It can be done in two ways:\n",
    "- Sampling with replacement: This means each element after being choosen, still have the same chance to be chosen again and we have repetitive items in this sampling.\n",
    "- Sampling without replacement: Once you select an element in this fashion, that element can't be chosen for the sample again"
   ]
  },
  {
   "cell_type": "markdown",
   "id": "3d7c7e04-8daf-418e-8ae4-5839a20094fd",
   "metadata": {},
   "source": [
    "> The upside is the best randomization which eleminate the disrupting factors. The downside is in larger count samples, it is time consuming and might be expensive"
   ]
  },
  {
   "cell_type": "markdown",
   "id": "fa14ed3d-07f5-4eb1-bb9c-cba9323ad036",
   "metadata": {},
   "source": [
    "#### Stratified random sampling"
   ]
  },
  {
   "cell_type": "markdown",
   "id": "7d5d82c2-b9ba-4fed-afe8-05c18ec4fcba",
   "metadata": {},
   "source": [
    "We divide the population based on a attribute to different groups and then we chose samples from those groups.\n",
    "The hierachy would be this: **Population -> strata -> sample**"
   ]
  },
  {
   "cell_type": "markdown",
   "id": "d05ec85c-c6af-4fc2-864b-2c4214605134",
   "metadata": {},
   "source": [
    "#### Cluster random sampling"
   ]
  },
  {
   "cell_type": "markdown",
   "id": "0068a3a9-10ea-4172-8b8e-a0616210e794",
   "metadata": {},
   "source": [
    "In this method, we first randomly choose some number of clusters. Unlike stratified which you select samples from **ALL** subsets, in cluster sampling you must choose some random clusters then choose some samples from them as well. So actually you are doing sampling twice."
   ]
  },
  {
   "cell_type": "markdown",
   "id": "58d07679-6559-499f-a432-5b3a3a4b0790",
   "metadata": {},
   "source": [
    "This method is useful for some specific clinical trials or when you have a lot of subsets which makes it complicated and time consuming to select from all of them"
   ]
  },
  {
   "cell_type": "code",
   "execution_count": null,
   "id": "e164507e-5e17-4658-89dc-66434fab8488",
   "metadata": {},
   "outputs": [],
   "source": []
  }
 ],
 "metadata": {
  "kernelspec": {
   "display_name": "Python 3 (ipykernel)",
   "language": "python",
   "name": "python3"
  },
  "language_info": {
   "codemirror_mode": {
    "name": "ipython",
    "version": 3
   },
   "file_extension": ".py",
   "mimetype": "text/x-python",
   "name": "python",
   "nbconvert_exporter": "python",
   "pygments_lexer": "ipython3",
   "version": "3.12.7"
  }
 },
 "nbformat": 4,
 "nbformat_minor": 5
}
