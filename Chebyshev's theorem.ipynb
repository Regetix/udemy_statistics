{
 "cells": [
  {
   "cell_type": "markdown",
   "id": "ab6edb5f-0094-4fcc-bba9-61e8924574ac",
   "metadata": {},
   "source": [
    "# Chebyshev's Theorom"
   ]
  },
  {
   "cell_type": "markdown",
   "id": "5444050b-bf6d-4ec3-a329-3c724acfa352",
   "metadata": {},
   "source": [
    "Chebyshev's theorem, also known as Chebyshev's inequality, provides a way to estimate the proportion of data points that fall within a certain number of standard deviations from the mean for any probability distribution"
   ]
  },
  {
   "cell_type": "markdown",
   "id": "b127c735-7543-4f25-b6d5-c7fb5abb794a",
   "metadata": {},
   "source": [
    "$$ (P(|X-\\mu |<k\\sigma )\\ge 1-\\frac{1}{k^{2}})$$"
   ]
  },
  {
   "cell_type": "markdown",
   "id": "b98ec060-0ad3-4d67-b509-09045bb6e106",
   "metadata": {},
   "source": [
    "where:      \\(X\\) is a random variable, \\(\\mu \\) is the mean of \\(X\\), \\(\\sigma \\) is the standard deviation of \\(X\\), and \\(k\\) is a positive number greater than 1."
   ]
  },
  {
   "cell_type": "markdown",
   "id": "f3fd7b76-3b05-4f19-af6d-04aa1d25e893",
   "metadata": {},
   "source": [
    "You can also write it like this: </br>\n",
    "$$ P(\\mu\\pm k \\sigma) \\ge 1-\\frac{1}{k^2}$$\n",
    "Where $\\mu$ is Mean or {$\\bar x$)"
   ]
  },
  {
   "cell_type": "code",
   "execution_count": 6,
   "id": "e298f480-0187-444f-a5db-1589c37ff3d5",
   "metadata": {},
   "outputs": [],
   "source": [
    "#Prerequisites packages\n",
    "import numpy as np\n",
    "import pandas as pd\n",
    "import matplotlib.pyplot as plt\n",
    "\n",
    "np.random.seed(10)\n",
    "#Ensuring pandas only displays two decimal places\n",
    "pd.options.display.precision=2"
   ]
  },
  {
   "cell_type": "code",
   "execution_count": 28,
   "id": "15e30ca9-6ba5-4667-adf7-7790be5f792e",
   "metadata": {},
   "outputs": [],
   "source": [
    "df= pd.DataFrame(np.random.randint(0,20,100).reshape((20,5)))"
   ]
  },
  {
   "cell_type": "code",
   "execution_count": 29,
   "id": "e28f2eb5-19b4-4fc9-a7a7-d0bb5581a65a",
   "metadata": {},
   "outputs": [
    {
     "data": {
      "text/html": [
       "<div>\n",
       "<style scoped>\n",
       "    .dataframe tbody tr th:only-of-type {\n",
       "        vertical-align: middle;\n",
       "    }\n",
       "\n",
       "    .dataframe tbody tr th {\n",
       "        vertical-align: top;\n",
       "    }\n",
       "\n",
       "    .dataframe thead th {\n",
       "        text-align: right;\n",
       "    }\n",
       "</style>\n",
       "<table border=\"1\" class=\"dataframe\">\n",
       "  <thead>\n",
       "    <tr style=\"text-align: right;\">\n",
       "      <th></th>\n",
       "      <th>0</th>\n",
       "      <th>1</th>\n",
       "      <th>2</th>\n",
       "      <th>3</th>\n",
       "      <th>4</th>\n",
       "    </tr>\n",
       "  </thead>\n",
       "  <tbody>\n",
       "    <tr>\n",
       "      <th>0</th>\n",
       "      <td>10</td>\n",
       "      <td>9</td>\n",
       "      <td>12</td>\n",
       "      <td>16</td>\n",
       "      <td>4</td>\n",
       "    </tr>\n",
       "    <tr>\n",
       "      <th>1</th>\n",
       "      <td>6</td>\n",
       "      <td>9</td>\n",
       "      <td>8</td>\n",
       "      <td>16</td>\n",
       "      <td>11</td>\n",
       "    </tr>\n",
       "    <tr>\n",
       "      <th>2</th>\n",
       "      <td>7</td>\n",
       "      <td>17</td>\n",
       "      <td>7</td>\n",
       "      <td>17</td>\n",
       "      <td>1</td>\n",
       "    </tr>\n",
       "    <tr>\n",
       "      <th>3</th>\n",
       "      <td>11</td>\n",
       "      <td>14</td>\n",
       "      <td>10</td>\n",
       "      <td>15</td>\n",
       "      <td>5</td>\n",
       "    </tr>\n",
       "    <tr>\n",
       "      <th>4</th>\n",
       "      <td>16</td>\n",
       "      <td>13</td>\n",
       "      <td>8</td>\n",
       "      <td>3</td>\n",
       "      <td>12</td>\n",
       "    </tr>\n",
       "  </tbody>\n",
       "</table>\n",
       "</div>"
      ],
      "text/plain": [
       "    0   1   2   3   4\n",
       "0  10   9  12  16   4\n",
       "1   6   9   8  16  11\n",
       "2   7  17   7  17   1\n",
       "3  11  14  10  15   5\n",
       "4  16  13   8   3  12"
      ]
     },
     "execution_count": 29,
     "metadata": {},
     "output_type": "execute_result"
    }
   ],
   "source": [
    "df. head()"
   ]
  },
  {
   "cell_type": "code",
   "execution_count": 30,
   "id": "0b034fff-e61b-422b-8c02-6bad012e0e70",
   "metadata": {},
   "outputs": [],
   "source": [
    "def Chebyshev_test(data:pd.DataFrame,k:int,col:int):\n",
    "    single_row = data[col]\n",
    "    std=single_row.std()\n",
    "    mean=single_row.mean()\n",
    "    cheb_low = mean-(k*std)\n",
    "    cheb_high = mean+(k*std)\n",
    "    single_row=single_row[single_row<cheb_high]\n",
    "    single_row=single_row[single_row>cheb_low]\n",
    "    return single_row.size"
   ]
  },
  {
   "cell_type": "code",
   "execution_count": 31,
   "id": "10dba07b-58bd-4541-8bad-dd6e18ce4b1f",
   "metadata": {},
   "outputs": [],
   "source": [
    "cheb_size= Chebyshev_test(df,2,0)"
   ]
  },
  {
   "cell_type": "code",
   "execution_count": 32,
   "id": "6493a7ea-9de4-4d73-8b08-c9940be10ce9",
   "metadata": {},
   "outputs": [
    {
     "data": {
      "text/plain": [
       "20"
      ]
     },
     "execution_count": 32,
     "metadata": {},
     "output_type": "execute_result"
    }
   ],
   "source": [
    "cheb_size"
   ]
  },
  {
   "cell_type": "code",
   "execution_count": 36,
   "id": "8b743f41-35c7-4daf-ba2a-4d232261f26f",
   "metadata": {},
   "outputs": [
    {
     "data": {
      "text/plain": [
       "20"
      ]
     },
     "execution_count": 36,
     "metadata": {},
     "output_type": "execute_result"
    }
   ],
   "source": [
    "df[0].size"
   ]
  },
  {
   "cell_type": "markdown",
   "id": "be0cf61d-b9b1-4743-a2c9-8153025ac1f4",
   "metadata": {},
   "source": [
    "As you can see chebyshev says the population should be more than 75% which it is (100% in this case)"
   ]
  }
 ],
 "metadata": {
  "kernelspec": {
   "display_name": "Python 3 (ipykernel)",
   "language": "python",
   "name": "python3"
  },
  "language_info": {
   "codemirror_mode": {
    "name": "ipython",
    "version": 3
   },
   "file_extension": ".py",
   "mimetype": "text/x-python",
   "name": "python",
   "nbconvert_exporter": "python",
   "pygments_lexer": "ipython3",
   "version": "3.12.7"
  }
 },
 "nbformat": 4,
 "nbformat_minor": 5
}
