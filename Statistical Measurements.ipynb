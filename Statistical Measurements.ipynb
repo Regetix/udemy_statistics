{
 "cells": [
  {
   "cell_type": "markdown",
   "id": "3c606290-f16f-4ea3-a501-2d4470123868",
   "metadata": {},
   "source": [
    "# Measurements of a set"
   ]
  },
  {
   "cell_type": "markdown",
   "id": "0b8e81b3-8114-4cc1-ab42-083ad98c1435",
   "metadata": {},
   "source": [
    "## Basics"
   ]
  },
  {
   "cell_type": "markdown",
   "id": "c98f1d4e-6833-4c24-9554-6e74c0c0459e",
   "metadata": {},
   "source": [
    "We have three basic statistical measurements of a set:\n",
    "- min\n",
    "- max\n",
    "- range\n",
    "- median\n",
    "- mean\n",
    "- mode"
   ]
  },
  {
   "cell_type": "markdown",
   "id": "4388a417-ad42-4717-b001-e841a7fbb2d3",
   "metadata": {},
   "source": [
    "### Min"
   ]
  },
  {
   "cell_type": "markdown",
   "id": "10470926-8be9-4666-a7da-b8d7cd6ccfa8",
   "metadata": {},
   "source": [
    "Obviously ..."
   ]
  },
  {
   "cell_type": "code",
   "execution_count": 1,
   "id": "9fac4c7f-7e78-4e82-a22f-8b6e935ffc60",
   "metadata": {},
   "outputs": [],
   "source": [
    "# Basic python imports\n",
    "import numpy as np\n",
    "import pandas as pd\n",
    "np.random.seed(42)"
   ]
  },
  {
   "cell_type": "code",
   "execution_count": 2,
   "id": "16239895-f9d1-4bfe-bb97-3ce3b02302cb",
   "metadata": {},
   "outputs": [],
   "source": [
    "def create_basic_table():\n",
    "    row_1 = np.random.randint(1,100,100)\n",
    "    row_2 = np.random.randint(1,100,100)\n",
    "    row_3 = np.random.randint(1,100,100)\n",
    "    row_4 = np.random.randint(1,100,100)\n",
    "    df = pd.DataFrame(zip(row_1,row_2,row_3,row_4), columns=['Class1','Class2','Class3','Class4'])\n",
    "    return df"
   ]
  },
  {
   "cell_type": "code",
   "execution_count": 3,
   "id": "bd5602c5-2c2e-4c59-ab41-8a6efe8a61ca",
   "metadata": {},
   "outputs": [],
   "source": [
    "class_scores= create_basic_table()"
   ]
  },
  {
   "cell_type": "code",
   "execution_count": 4,
   "id": "14904743-6f7f-4944-a65a-8aca40bf489b",
   "metadata": {},
   "outputs": [
    {
     "name": "stdout",
     "output_type": "stream",
     "text": [
      "2\n"
     ]
    }
   ],
   "source": [
    "class_min = class_scores['Class1'].min()\n",
    "print(class_min)"
   ]
  },
  {
   "cell_type": "markdown",
   "id": "d51597ba-b24e-4fe5-bba8-55d20449d68b",
   "metadata": {},
   "source": [
    "### Max"
   ]
  },
  {
   "cell_type": "markdown",
   "id": "445795bc-c375-41ec-accb-4b87d0315de2",
   "metadata": {},
   "source": [
    "Obviously again ..."
   ]
  },
  {
   "cell_type": "code",
   "execution_count": 5,
   "id": "c1aacaca-9b95-4325-94ae-398137f173c7",
   "metadata": {},
   "outputs": [
    {
     "name": "stdout",
     "output_type": "stream",
     "text": [
      "95\n"
     ]
    }
   ],
   "source": [
    "class_max = class_scores['Class1'].max()\n",
    "print(class_max)"
   ]
  },
  {
   "cell_type": "markdown",
   "id": "eeb80bce-6064-454f-bb00-6a5d5e83ac1f",
   "metadata": {},
   "source": [
    "### Range"
   ]
  },
  {
   "cell_type": "markdown",
   "id": "cc04d0c9-53cd-4d93-a46a-9bcc8e32908a",
   "metadata": {},
   "source": [
    "Still obvious but it is the difference of Maximum and Minimum. So $Range= Max - Min$"
   ]
  },
  {
   "cell_type": "code",
   "execution_count": 6,
   "id": "e3513e0d-7e94-464d-99f8-c01c7fb6ea0c",
   "metadata": {},
   "outputs": [
    {
     "name": "stdout",
     "output_type": "stream",
     "text": [
      "93\n"
     ]
    }
   ],
   "source": [
    "class_range = class_max - class_min\n",
    "print(class_range)"
   ]
  },
  {
   "cell_type": "markdown",
   "id": "a1d97166-5304-4c72-af89-7a36bc4d8e41",
   "metadata": {},
   "source": [
    "### Mean"
   ]
  },
  {
   "cell_type": "markdown",
   "id": "2df4e0cd-37d4-4040-ba18-a61a4ff73aea",
   "metadata": {},
   "source": [
    "Average of all of the elements within a set. </br>\n",
    "$$\\bar x= \\mu = \\frac{\\sum_{i=1}^{n} x_i}{n}$$ </br>\n",
    "Where:\n",
    "- μ (mu) represents the population mean.\n",
    "- ∑ (sigma) denotes summation.\n",
    "- xi represents the individual data points.\n",
    "- n represents the sample size."
   ]
  },
  {
   "cell_type": "code",
   "execution_count": 7,
   "id": "7213a222-4f00-49f0-9e36-8f9ae5b905f4",
   "metadata": {},
   "outputs": [
    {
     "data": {
      "text/plain": [
       "50.69"
      ]
     },
     "execution_count": 7,
     "metadata": {},
     "output_type": "execute_result"
    }
   ],
   "source": [
    "class_scores['Class1'].mean()"
   ]
  },
  {
   "cell_type": "markdown",
   "id": "e2a5ea97-59bc-4ab7-a1b2-f75b2a6cf16d",
   "metadata": {},
   "source": [
    "### Mode"
   ]
  },
  {
   "cell_type": "markdown",
   "id": "b37bd088-e525-465f-9c06-42b268d85965",
   "metadata": {},
   "source": [
    "The value which has the most population in a set"
   ]
  },
  {
   "cell_type": "code",
   "execution_count": 8,
   "id": "3136b320-8457-4c72-9b01-3875ca18bff6",
   "metadata": {},
   "outputs": [
    {
     "data": {
      "text/plain": [
       "0    62\n",
       "Name: Class1, dtype: int32"
      ]
     },
     "execution_count": 8,
     "metadata": {},
     "output_type": "execute_result"
    }
   ],
   "source": [
    "class_scores['Class1'].mode()"
   ]
  },
  {
   "cell_type": "markdown",
   "id": "b1811f8d-ad4c-43ea-9f01-c907c2c236f2",
   "metadata": {},
   "source": [
    "### Median"
   ]
  },
  {
   "cell_type": "markdown",
   "id": "c88ac735-038e-4699-9e2e-394cbc526eb1",
   "metadata": {},
   "source": [
    "Middle value of a range"
   ]
  },
  {
   "cell_type": "code",
   "execution_count": 9,
   "id": "094c5e30-ad35-4cc3-a6ef-a18ca4b296cb",
   "metadata": {},
   "outputs": [
    {
     "data": {
      "text/plain": [
       "53.5"
      ]
     },
     "execution_count": 9,
     "metadata": {},
     "output_type": "execute_result"
    }
   ],
   "source": [
    "class_scores['Class1'].median()"
   ]
  },
  {
   "cell_type": "markdown",
   "id": "02cb1dd8-746f-40d6-964f-694b3a8bad37",
   "metadata": {},
   "source": [
    "This is writtern 53.5 because our set has even numbers of elements so it would be between 54 and 53"
   ]
  },
  {
   "cell_type": "markdown",
   "id": "76fdb1a9-685d-4fb2-9930-3570297cc234",
   "metadata": {},
   "source": [
    "## Advance"
   ]
  },
  {
   "cell_type": "markdown",
   "id": "d592e12a-4815-4572-af79-259fbfcc3770",
   "metadata": {},
   "source": [
    "### Deviation"
   ]
  },
  {
   "cell_type": "markdown",
   "id": "6d449266-2524-48a0-bc95-8addad503727",
   "metadata": {},
   "source": [
    "Distance of each element from mean of the set. It is meaningless to calculate and sum all of the deviations Since it would always be 0."
   ]
  },
  {
   "cell_type": "markdown",
   "id": "7d0bf256-aa9d-464b-86a0-36c0913246ec",
   "metadata": {},
   "source": [
    "$$Deviation = \\frac{(x_i - \\bar x)+ ...+(x_1 - \\bar x)}{n} = \\frac{\\sum_{i=1}^{n}(x_i - \\bar x)}{n}$$"
   ]
  },
  {
   "cell_type": "markdown",
   "id": "bda9ea36-e854-4df8-8382-5b66a33bd007",
   "metadata": {},
   "source": [
    "$$ Deviation * n = \\sum_{i=1}^{n} x_i - n*\\bar x = \\sum_{i=1}^{n} x_i -\\sum_{i=1}^{n} \\bar x =  \\sum_{i=1}^{n} x_i -\\frac{n}{n}\\sum_{i=1}^{n} x_i  = 0$$"
   ]
  },
  {
   "cell_type": "markdown",
   "id": "b3a1c4c0-24cd-434e-8b75-7ef2a4850513",
   "metadata": {},
   "source": [
    "### Mean absolute deviation"
   ]
  },
  {
   "cell_type": "markdown",
   "id": "4e6cfac5-4c89-46e1-9876-f1fdd90f2aeb",
   "metadata": {},
   "source": [
    "Since absolute deviation is useless, the best way is to sum the absolute (non negative) value of all of the deviations. The purpose of deviation calculation is how much spread is in a set. so it would be like this in mathematical terms:"
   ]
  },
  {
   "cell_type": "markdown",
   "id": "25bd8789-3893-4cbf-ba55-3e87fbbbb437",
   "metadata": {},
   "source": [
    "$$\\text{Mean Absolute Deviation (MAD)} = \\frac{1}{n} \\sum_{i=1}^{n} |x_i - \\bar x|$$"
   ]
  },
  {
   "cell_type": "code",
   "execution_count": 10,
   "id": "74384ec9-d1ca-49f2-b4ef-f6e7cc00b721",
   "metadata": {},
   "outputs": [],
   "source": [
    "def mean_absolute_deviation(data:pd.Series):\n",
    "    mean = data.mean()\n",
    "    mad = 0\n",
    "    for i in data:\n",
    "        d=np.absolute(i-mean)\n",
    "        mad +=d\n",
    "    mad /= len(data)\n",
    "    return mad"
   ]
  },
  {
   "cell_type": "code",
   "execution_count": 11,
   "id": "cf6c36bc-533a-4402-9d71-f23c959e78e0",
   "metadata": {},
   "outputs": [
    {
     "name": "stdout",
     "output_type": "stream",
     "text": [
      "24.567199999999993\n"
     ]
    }
   ],
   "source": [
    "mad = mean_absolute_deviation(class_scores['Class1'])\n",
    "print(mad)"
   ]
  },
  {
   "cell_type": "markdown",
   "id": "4e3cce07-d286-4ac9-aae2-85f10612880a",
   "metadata": {},
   "source": [
    "### Variance"
   ]
  },
  {
   "cell_type": "markdown",
   "id": "a2158a5d-7585-4caa-9daf-55ff2fbdd9ac",
   "metadata": {},
   "source": [
    "Similar to MAD, Variance ($\\sigma^2$) has the same purpose but instead of absolute values, we use square of each deviation. The only downside is the unit of Variance is the square of the original unit. For example: If the set of heights of 100 people is based on Meter $m$, their Variance unit would be square of Meter $m^2$"
   ]
  },
  {
   "cell_type": "markdown",
   "id": "916e38ec-d3e2-42c6-9c61-f13e0cb3318e",
   "metadata": {},
   "source": [
    "$$\\sigma^2 = \\frac{\\sum_{i=1}^{n} (x_i - \\bar x)^2}{n}$$\n",
    "Explanation:\n",
    "- σ² (sigma squared) represents the variance.\n",
    "- ∑ (sigma) denotes the summation.\n",
    "- x_i represents each individual data point.\n",
    "- n represents the number of data points.\n",
    "- μ (mu) represents the mean of the data set."
   ]
  },
  {
   "cell_type": "code",
   "execution_count": 12,
   "id": "80edcc88-2faa-4cd7-a0df-48538337272f",
   "metadata": {},
   "outputs": [
    {
     "data": {
      "text/plain": [
       "838.4786868686867"
      ]
     },
     "execution_count": 12,
     "metadata": {},
     "output_type": "execute_result"
    }
   ],
   "source": [
    "class_scores['Class1'].var()"
   ]
  },
  {
   "cell_type": "markdown",
   "id": "a3b47e42-a5a6-4471-9cd3-0dddb33fb08b",
   "metadata": {},
   "source": [
    "### Standard Deviation"
   ]
  },
  {
   "cell_type": "markdown",
   "id": "ec76d18a-1cfd-47dc-8b35-6769114d6dfe",
   "metadata": {},
   "source": [
    "To eliminate the caveat of Variance unit discrepancy, just calculate the square root of variance."
   ]
  },
  {
   "cell_type": "markdown",
   "id": "524b0bcf-f266-4cca-be46-1352e29470af",
   "metadata": {},
   "source": [
    "$$\\sigma = \\sqrt{\\frac{\\sum_{i=1}^{n} (x_i - \\bar x)^2}{n}}$$"
   ]
  },
  {
   "cell_type": "code",
   "execution_count": 13,
   "id": "8426e69b-fe67-424e-b419-65699b96ae4a",
   "metadata": {},
   "outputs": [
    {
     "name": "stdout",
     "output_type": "stream",
     "text": [
      "28.956496453623092\n",
      "838.4786868686867\n",
      "838.4786868686867\n"
     ]
    }
   ],
   "source": [
    "print(class_scores['Class1'].std())\n",
    "print(class_scores['Class1'].var())\n",
    "print(class_scores['Class1'].std()**2)"
   ]
  },
  {
   "cell_type": "markdown",
   "id": "8e5b0a1f-2107-4057-8c1a-b29eb6404b8f",
   "metadata": {},
   "source": [
    "### Coefficient Variance"
   ]
  },
  {
   "cell_type": "markdown",
   "id": "1317b431-7336-433e-9ad3-832eb05fc1b8",
   "metadata": {},
   "source": [
    "The coefficient of variation (CV) is a standardized measure of dispersion (spread) of a dataset relative to its mean. It expresses the standard deviation as a percentage of the mean. Essentially, it tells you how much more spread there is in one dataset compared to another, regardless of their actual values. This doesn't have any unit and enables us to compare the spread of two sets independent of each others range and value sizes. e.g: </br>\n",
    "$a={2,5,10,17,20}$</br>\n",
    "$b={55,56,70,66,63}$</br>\n",
    "The $a$ has more spread but has less std and mean than $b$"
   ]
  },
  {
   "cell_type": "markdown",
   "id": "d45de547-a1f8-4bc6-a686-f4c9fa8b2684",
   "metadata": {},
   "source": [
    "$$\\text{Coefficient of Variation(CV)} = \\frac{\\sigma}{\\mu} \\times 100\\%$$"
   ]
  },
  {
   "cell_type": "markdown",
   "id": "62b0e77d-34b5-43e7-b7c4-5a4c67cf5830",
   "metadata": {},
   "source": [
    "Explanation:\n",
    "\n",
    "- \\text{...}: This command ensures that the text is rendered as actual text, not as a mathematical symbol.\n",
    "- $\\sigma$: Represents the standard deviation.\n",
    "- $\\mu$: Represents the mean."
   ]
  },
  {
   "cell_type": "code",
   "execution_count": 18,
   "id": "caf3dec7-e347-4181-b42e-911aadd18fa3",
   "metadata": {},
   "outputs": [
    {
     "name": "stdout",
     "output_type": "stream",
     "text": [
      "0.57\n",
      "0.57\n"
     ]
    }
   ],
   "source": [
    "cv= class_scores['Class1'].std()/class_scores['Class1'].mean()\n",
    "print(f'{cv:.2f}')\n",
    "#Or like this\n",
    "print('{:.2f}'.format(cv))"
   ]
  }
 ],
 "metadata": {
  "kernelspec": {
   "display_name": "Python 3 (ipykernel)",
   "language": "python",
   "name": "python3"
  },
  "language_info": {
   "codemirror_mode": {
    "name": "ipython",
    "version": 3
   },
   "file_extension": ".py",
   "mimetype": "text/x-python",
   "name": "python",
   "nbconvert_exporter": "python",
   "pygments_lexer": "ipython3",
   "version": "3.12.7"
  }
 },
 "nbformat": 4,
 "nbformat_minor": 5
}
