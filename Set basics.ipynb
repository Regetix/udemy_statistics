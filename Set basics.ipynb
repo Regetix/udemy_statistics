{
 "cells": [
  {
   "cell_type": "markdown",
   "id": "b2fc4975-0ff1-4ff0-881a-ba0c8e891357",
   "metadata": {},
   "source": [
    "# Set theory"
   ]
  },
  {
   "cell_type": "markdown",
   "id": "823c0239-c375-466b-84d8-d134b75d0a31",
   "metadata": {},
   "source": [
    "Set is a series of single entities called \"Elements\" which can also referred as \"Events\" (if they are product of an experiment). It consist of a distinct elements which are not repititive. "
   ]
  },
  {
   "cell_type": "code",
   "execution_count": 1,
   "id": "d5b104eb-6650-4169-9ad7-be4ee7273231",
   "metadata": {},
   "outputs": [],
   "source": [
    "# prerequisites packages\n",
    "import numpy as np\n",
    "import pandas as pd\n",
    "import matplotlib.pyplot as plt\n",
    "import seaborn as sns\n",
    "from scipy.special import comb, perm\n",
    "%matplotlib inline"
   ]
  },
  {
   "cell_type": "markdown",
   "id": "4877a764-9923-4207-a0e4-6d0af019c8ba",
   "metadata": {},
   "source": [
    "## Definition"
   ]
  },
  {
   "cell_type": "markdown",
   "id": "c08f3200-450e-460a-bd4c-eea74f19b4ad",
   "metadata": {},
   "source": [
    "Set is list a non repeatitive list of elements. It can't have same elements (unlike list which can consist of same elements). Sets also can have non numerical elements such as text (string). It is also possible to have various type of elements (numerical and non numerical) but it would impractical since you can't perform statistics analysis on various type.\n",
    "Unlike set, **List** can have repititive elements"
   ]
  },
  {
   "cell_type": "code",
   "execution_count": 2,
   "id": "8b6e5f31-02d6-465b-8b2b-f49921cb9785",
   "metadata": {},
   "outputs": [
    {
     "name": "stdout",
     "output_type": "stream",
     "text": [
      "[1, 1, 2, 1, 3, 3, 4, 1, 3, 2, 3, 1, 3, 5, 1, 2, 3, 1, 2, 3, 4, 4, 4, 5, 6, 1, 2, 3]\n",
      "{1, 2, 3, 4, 5, 6}\n"
     ]
    }
   ],
   "source": [
    "#Check the difference between list and set\n",
    "dice_rolls_order= [1,1,2,1,3,3,4,1,3,2,3,1,3,5,1,2,3,1,2,3,4,4,4,5,6,1,2,3]\n",
    "disk_sample_space= set(dice_rolls_order)\n",
    "\n",
    "print(dice_rolls_order)\n",
    "print(disk_sample_space)"
   ]
  },
  {
   "cell_type": "markdown",
   "id": "80549e40-0f11-4233-9578-ce6291759b3a",
   "metadata": {},
   "source": [
    "Each element can exist only within sample space. We have a Set of 6 consecutive integers from 1 to 6. So our sample space would be:\n",
    "$a={1,2,3,4,5,6}$ </br>\n",
    "then *1* would be an element of *a*.\n",
    "\n",
    "Now let's see another example. What is the sample space of rolling a dice once? 🎲\n",
    "Obviously it would $b={1,2,3,4,5,6}$. </br>\n",
    "Now any element of this sample space would be an **Event**. Because, it is a product of single experiment could be executed infinite times (no matter how many times you roll a dice, the top face would always has a value between 1 to 6 (both inclusive)). So *2* is an event of *b*."
   ]
  },
  {
   "cell_type": "code",
   "execution_count": 3,
   "id": "d9be779a-1038-4680-a059-ef18d785673d",
   "metadata": {},
   "outputs": [],
   "source": [
    "a={1,2,3,4,5,6} # 1 to 6\n",
    "# OR\n",
    "a=set([1,2,3,4,5,6])\n",
    "b={1,2,3,4,5,6} # Dice roll sample space"
   ]
  },
  {
   "cell_type": "markdown",
   "id": "a5eadc2b-59fc-420c-8343-0be9ad7e4e0c",
   "metadata": {},
   "source": [
    "### Universal set"
   ]
  },
  {
   "cell_type": "markdown",
   "id": "77894f3c-acaa-43c4-a361-366e748d5496",
   "metadata": {},
   "source": [
    "It consist of all possible outcomes or all possible elements which could exist inside of a specific set. It is notated by $U$ and nothing could exist outside the scope of $U$ that could exist within the set($S$)."
   ]
  },
  {
   "cell_type": "markdown",
   "id": "f01c7a0f-4dcf-4f83-bf1c-62cba96e7677",
   "metadata": {},
   "source": [
    "For example Universal space of dice roll is $U={1,2,3,4,5,6}$. Each dice roll outcome can only be one of the $U$."
   ]
  },
  {
   "cell_type": "markdown",
   "id": "56efb292-f85d-4212-813f-f9d0493f833f",
   "metadata": {},
   "source": [
    "### Subset "
   ]
  },
  {
   "cell_type": "markdown",
   "id": "b3db6c23-5b78-4cce-ae55-de65494cf18a",
   "metadata": {},
   "source": [
    "Any set of universal set is a subset of universal set."
   ]
  },
  {
   "cell_type": "code",
   "execution_count": 4,
   "id": "52f15e3a-5ba5-4c65-93c3-1106a3e34a8a",
   "metadata": {},
   "outputs": [
    {
     "name": "stdout",
     "output_type": "stream",
     "text": [
      "universal set: {1, 2, 3, 4, 5, 6}\n",
      "{1, 3, 5} is subset of {1, 2, 3, 4, 5, 6}?  True\n"
     ]
    }
   ],
   "source": [
    "b={1,2,3,4,5,6}\n",
    "print(f'universal set: {b}')\n",
    "#Subset of odd numbers\n",
    "subset_1={1,3,5}\n",
    "#Subset of numbers greater than 3\n",
    "subset_2={4,5,6}\n",
    "print(f'{subset_1} is subset of {b}? ',subset_1.issubset(b))"
   ]
  },
  {
   "cell_type": "markdown",
   "id": "8fbafe44-529d-4d11-8eb1-ad9acf6706dd",
   "metadata": {},
   "source": [
    "### Superset"
   ]
  },
  {
   "cell_type": "markdown",
   "id": "9b704d2b-2016-47dc-9472-c949699a2eb7",
   "metadata": {},
   "source": [
    "It a subset of $U$ that has all of the elements of another subset of $U$ which higher on the hierachy."
   ]
  },
  {
   "cell_type": "markdown",
   "id": "17070173-d23e-4892-8376-370f8a6da5a5",
   "metadata": {},
   "source": [
    "$U={1,2,3,4,5,6}$ </br>\n",
    "$S={1,2,3,4}$ (The superset)</br>\n",
    "$s={1,2}$ (The subset)"
   ]
  },
  {
   "cell_type": "code",
   "execution_count": 5,
   "id": "1bfbe674-dbb7-4558-bb6b-37c39611e285",
   "metadata": {},
   "outputs": [
    {
     "name": "stdout",
     "output_type": "stream",
     "text": [
      "universal set: {1, 2, 3, 4, 5, 6}\n",
      "{1, 2, 3, 4, 5, 6} is subset of {1, 3, 5}?  True\n"
     ]
    }
   ],
   "source": [
    "b={1,2,3,4,5,6}\n",
    "print(f'universal set: {b}')\n",
    "#Subset of odd numbers\n",
    "subset_1={1,3,5}\n",
    "#Subset of numbers greater than 3\n",
    "subset_2={4,5,6}\n",
    "print(f'{b} is subset of {subset_1}? ', b.issuperset(subset_1))"
   ]
  },
  {
   "cell_type": "markdown",
   "id": "7df57b1c-f6ba-4b7e-8cb6-02daf84c24ca",
   "metadata": {},
   "source": [
    "### Complementary set"
   ]
  },
  {
   "cell_type": "markdown",
   "id": "297bbb40-fe34-4a0d-aed9-d70163055f89",
   "metadata": {},
   "source": [
    "All of the elements which is outside of the scope set*A* but exists in union space. In a nutshell: $A'=U - A$"
   ]
  },
  {
   "cell_type": "markdown",
   "id": "f3c204ec-f724-4af6-bc43-48b7113c4479",
   "metadata": {},
   "source": [
    "### Intersection"
   ]
  },
  {
   "cell_type": "markdown",
   "id": "aab549ac-77b2-424b-924e-d82900bc1704",
   "metadata": {},
   "source": [
    "A subset of *A* and *B* which elements are mutual between.\n",
    "for example: </br>\n",
    "$A={1,2,3,4}$ </br>\n",
    "$B={2,4,6,8}$ </br>\n",
    "$A \\cap B={2,4}$ </br>"
   ]
  },
  {
   "cell_type": "code",
   "execution_count": 6,
   "id": "a5bbd06f-6d59-4585-9ff8-5cd1f93d373d",
   "metadata": {},
   "outputs": [
    {
     "name": "stdout",
     "output_type": "stream",
     "text": [
      "{2, 4}\n"
     ]
    },
    {
     "data": {
      "text/plain": [
       "{2, 4}"
      ]
     },
     "execution_count": 6,
     "metadata": {},
     "output_type": "execute_result"
    }
   ],
   "source": [
    "a={1,2,3,4}\n",
    "b={2,4,6,8}\n",
    "\n",
    "print(a.intersection(b))\n",
    "a & b"
   ]
  },
  {
   "cell_type": "markdown",
   "id": "df6ff99b-ab41-486d-b569-0a4825d78b95",
   "metadata": {},
   "source": [
    "### Union"
   ]
  },
  {
   "cell_type": "markdown",
   "id": "e4bc5b9b-55d7-4bca-a9c0-2fa6a0d27d2c",
   "metadata": {},
   "source": [
    "A set consists of all the elements in *A* and *B*, wether mutual or not.\n",
    "for example: </br>\n",
    "$A={1,2,3,4}$ </br>\n",
    "$B={2,4,6,8}$ </br>\n",
    "$A \\cup B={1,2,3,4,6,8}$ </br>"
   ]
  },
  {
   "cell_type": "code",
   "execution_count": 7,
   "id": "4bc2389c-96f3-434a-8d4d-6016ae3cc503",
   "metadata": {},
   "outputs": [
    {
     "name": "stdout",
     "output_type": "stream",
     "text": [
      "{1, 2, 3, 4, 6, 8}\n"
     ]
    },
    {
     "data": {
      "text/plain": [
       "{1, 2, 3, 4, 6, 8}"
      ]
     },
     "execution_count": 7,
     "metadata": {},
     "output_type": "execute_result"
    }
   ],
   "source": [
    "a={1,2,3,4}\n",
    "b={2,4,6,8}\n",
    "\n",
    "print(a.union(b))\n",
    "a | b"
   ]
  },
  {
   "cell_type": "markdown",
   "id": "f74f4aef-0b66-4c0f-885d-1867c206268b",
   "metadata": {},
   "source": [
    "### Difference"
   ]
  },
  {
   "cell_type": "markdown",
   "id": "a50d1b34-85d3-4595-95ba-7677c3025820",
   "metadata": {},
   "source": [
    "A subset of *A* which doesn't have any mutual element with another set *B*. In a nutshell, remove all of the mutual elements.\n",
    "It would be like this: </br>\n",
    "$A - B= A - (A \\cap B) =(A \\cap B)'$ </br>\n",
    "for example:\n",
    "$A={1,2,3,4}$ </br>\n",
    "$B={2,4,6,8}$ </br>\n",
    "\\\n",
    "$A - B={1,3}$ </br>"
   ]
  },
  {
   "cell_type": "code",
   "execution_count": 8,
   "id": "e81cbf59-f6ec-43c1-b6a7-e10da2071a2d",
   "metadata": {},
   "outputs": [
    {
     "name": "stdout",
     "output_type": "stream",
     "text": [
      "{1, 3}\n"
     ]
    },
    {
     "data": {
      "text/plain": [
       "{1, 3}"
      ]
     },
     "execution_count": 8,
     "metadata": {},
     "output_type": "execute_result"
    }
   ],
   "source": [
    "a={1,2,3,4}\n",
    "b={2,4,6,8}\n",
    "\n",
    "print(a.difference(b))\n",
    "a - b"
   ]
  },
  {
   "cell_type": "markdown",
   "id": "a34858fb-6374-4eac-9f7e-a883f1292086",
   "metadata": {},
   "source": [
    "### Symmetrical Difference"
   ]
  },
  {
   "cell_type": "markdown",
   "id": "c70cb3b2-1e3c-4f64-94cd-971b741d2820",
   "metadata": {},
   "source": [
    "A subset of unmutual elements of both sets *A* and *B*. It can also seen as difference of union of *A* *B* and intersection of *A* *B*. To put it in notations: $(A \\cup B) - (A \\cap B)$"
   ]
  },
  {
   "cell_type": "markdown",
   "id": "70d4d12e-5955-4514-a822-74979bb23f63",
   "metadata": {},
   "source": [
    "For example: </br>\n",
    "$A={1,2,3,4}$ </br>\n",
    "$B={2,4,6,8}$ </br>\n",
    "$A \\bigtriangleup B={1,3,6,8}$ </br>"
   ]
  },
  {
   "cell_type": "code",
   "execution_count": 9,
   "id": "f4e4466e-b820-4d73-816a-08ab6d7ce9ce",
   "metadata": {},
   "outputs": [
    {
     "ename": "TypeError",
     "evalue": "unsupported operand type(s) for +: 'set' and 'set'",
     "output_type": "error",
     "traceback": [
      "\u001b[1;31m---------------------------------------------------------------------------\u001b[0m",
      "\u001b[1;31mTypeError\u001b[0m                                 Traceback (most recent call last)",
      "Cell \u001b[1;32mIn[9], line 3\u001b[0m\n\u001b[0;32m      1\u001b[0m \u001b[38;5;66;03m# lets test something\u001b[39;00m\n\u001b[0;32m      2\u001b[0m \u001b[38;5;66;03m# What if i add two sets\u001b[39;00m\n\u001b[1;32m----> 3\u001b[0m a \u001b[38;5;241m+\u001b[39m b\n",
      "\u001b[1;31mTypeError\u001b[0m: unsupported operand type(s) for +: 'set' and 'set'"
     ]
    }
   ],
   "source": [
    "# lets test something\n",
    "# What if i add two sets\n",
    "a + b"
   ]
  },
  {
   "cell_type": "code",
   "execution_count": 10,
   "id": "d845a20e-dc45-4eaf-9d42-9953e6443455",
   "metadata": {},
   "outputs": [],
   "source": [
    "# See you can't add two sets"
   ]
  },
  {
   "cell_type": "markdown",
   "id": "07430368-415c-4756-bdd8-7c930dda9057",
   "metadata": {},
   "source": [
    "### Set Manuplation functions"
   ]
  },
  {
   "cell_type": "code",
   "execution_count": 11,
   "id": "06a0a144-ca90-471b-8344-8812af91129f",
   "metadata": {},
   "outputs": [
    {
     "name": "stdout",
     "output_type": "stream",
     "text": [
      "{2, 3, 4}\n",
      "{2, 3, 4, 5}\n",
      "{3, 4, 5}\n"
     ]
    }
   ],
   "source": [
    "a={1,2,3,4}\n",
    "# remove an element\n",
    "new_set = a\n",
    "new_set.remove(1) #removes the number one not the index 1\n",
    "print(new_set)\n",
    "# Adds a new element to the end of the set\n",
    "new_set = a\n",
    "new_set.add(5)\n",
    "print(new_set)\n",
    "# Pop an element (first element)\n",
    "new_set = a\n",
    "new_set.pop()\n",
    "print(new_set)"
   ]
  },
  {
   "cell_type": "markdown",
   "id": "792de17f-bf63-4e9a-93ea-93f3e531747f",
   "metadata": {},
   "source": [
    "### Disjoint sets"
   ]
  },
  {
   "cell_type": "markdown",
   "id": "661eba4d-785e-4eed-9ccd-43fb650007ba",
   "metadata": {},
   "source": [
    "When two seperate *A* and *B* have no mutual elements so they are disjointed. Hence, *A* is a disjoint to *B*.\n",
    "$A \\cap B= \\phi$"
   ]
  },
  {
   "cell_type": "code",
   "execution_count": 13,
   "id": "47470f99-5a44-4faf-8df5-d0175c0d9f84",
   "metadata": {},
   "outputs": [
    {
     "name": "stdout",
     "output_type": "stream",
     "text": [
      "False\n",
      "True\n"
     ]
    }
   ],
   "source": [
    "a={1,2,3,4}\n",
    "b={2,4,6,8}\n",
    "c={10,12,14,16}\n",
    "print(a.isdisjoint(b))\n",
    "print(c.isdisjoint(b))"
   ]
  }
 ],
 "metadata": {
  "kernelspec": {
   "display_name": "Python 3 (ipykernel)",
   "language": "python",
   "name": "python3"
  },
  "language_info": {
   "codemirror_mode": {
    "name": "ipython",
    "version": 3
   },
   "file_extension": ".py",
   "mimetype": "text/x-python",
   "name": "python",
   "nbconvert_exporter": "python",
   "pygments_lexer": "ipython3",
   "version": "3.12.7"
  }
 },
 "nbformat": 4,
 "nbformat_minor": 5
}
