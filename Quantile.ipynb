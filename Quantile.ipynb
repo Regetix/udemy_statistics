{
 "cells": [
  {
   "cell_type": "markdown",
   "id": "f7d4d24b-30a4-4f71-afb0-9784b4936d80",
   "metadata": {},
   "source": [
    "That 1/4 2/4(median) 3/4 thing you know already"
   ]
  },
  {
   "cell_type": "code",
   "execution_count": 1,
   "id": "858eef2f-7d61-4bee-954d-05fe3a284ac2",
   "metadata": {},
   "outputs": [],
   "source": [
    "#Prerequisites packages\n",
    "import numpy as np\n",
    "import pandas as pd\n",
    "import matplotlib.pyplot as plt\n",
    "\n",
    "pd.options.display.precision=2"
   ]
  },
  {
   "cell_type": "code",
   "execution_count": 2,
   "id": "b8819fa7-9887-4a24-97a0-a4def671e5b7",
   "metadata": {},
   "outputs": [],
   "source": [
    "df= pd.DataFrame(np.random.randint(0,21,500).reshape((100,5))) #21 in inclusive"
   ]
  },
  {
   "cell_type": "code",
   "execution_count": 3,
   "id": "8371f4fb-5518-4520-8b31-611ec2abcf44",
   "metadata": {},
   "outputs": [],
   "source": [
    "df_num = df[0]\n",
    "df_quantile = df_num.quantile([0,1/4,2/4,3/4,4/4])"
   ]
  },
  {
   "cell_type": "code",
   "execution_count": 4,
   "id": "58bdf7b6-24e8-48cc-8fc6-5b55b0c2db58",
   "metadata": {},
   "outputs": [
    {
     "data": {
      "text/plain": [
       "10.0"
      ]
     },
     "execution_count": 4,
     "metadata": {},
     "output_type": "execute_result"
    }
   ],
   "source": [
    "df_num.quantile() #Median or second quantile"
   ]
  },
  {
   "cell_type": "code",
   "execution_count": 5,
   "id": "1a59c9a0-679d-439d-896f-5d48440a77dd",
   "metadata": {},
   "outputs": [
    {
     "data": {
      "text/plain": [
       "0.00     0.0\n",
       "0.25     4.0\n",
       "0.50    10.0\n",
       "0.75    15.0\n",
       "1.00    20.0\n",
       "Name: 0, dtype: float64"
      ]
     },
     "execution_count": 5,
     "metadata": {},
     "output_type": "execute_result"
    }
   ],
   "source": [
    "df_quantile"
   ]
  },
  {
   "cell_type": "markdown",
   "id": "02ac6117-1b07-487a-8dd0-1c7737d0ea85",
   "metadata": {},
   "source": [
    "## Interquantile Range (IQR)"
   ]
  },
  {
   "cell_type": "markdown",
   "id": "4e2dbb29-80c1-4494-82c4-01a09c83d49f",
   "metadata": {},
   "source": [
    "The difference between 1st and 3rd quantile\n",
    "$$ IQR= Q_3-Q_1 $$"
   ]
  },
  {
   "cell_type": "code",
   "execution_count": 6,
   "id": "28a47840-838e-4889-82f5-94d45940927b",
   "metadata": {},
   "outputs": [],
   "source": [
    "def IQR(data:pd.DataFrame,i:int):\n",
    "    first_q = data[i].quantile(1/4)\n",
    "    third_q = data[i].quantile(3/4)\n",
    "    iqr= third_q - first_q\n",
    "    return iqr"
   ]
  },
  {
   "cell_type": "code",
   "execution_count": 7,
   "id": "7b73fb04-dfcf-4031-a178-fde81001a1b8",
   "metadata": {},
   "outputs": [
    {
     "name": "stdout",
     "output_type": "stream",
     "text": [
      "11.0\n"
     ]
    }
   ],
   "source": [
    "iqr = IQR(df,0)\n",
    "print(iqr)"
   ]
  },
  {
   "cell_type": "markdown",
   "id": "1a62ee22-3d65-4ba0-bd9c-12e39ded20e4",
   "metadata": {},
   "source": [
    "### Outliers"
   ]
  },
  {
   "cell_type": "markdown",
   "id": "f1a2710a-5f29-4d2c-8439-5a07b8dd48f2",
   "metadata": {},
   "source": [
    "Outliers are elements or datas that are way out of the ordinary range of set. There isn't a hardcoded standard for outliers and can be adjusted on a Experiment to Experiment basis. Although, there is an recommended method for outliers limit."
   ]
  },
  {
   "cell_type": "markdown",
   "id": "23c3b768-1a6b-4a93-8712-5f955a772afb",
   "metadata": {},
   "source": [
    "$$ Q_1 - 1.5*IQR < X < Q_3 + 1.5*IQR $$"
   ]
  },
  {
   "cell_type": "markdown",
   "id": "d8f94a64-7b58-4c0f-8d0a-8df2bf2d7e7b",
   "metadata": {},
   "source": [
    "Where:\n",
    "- Q1 is First Quantile\n",
    "- Q3 is the third Quantile\n",
    "- X is the representation of each element within the existing set\n",
    "- IQR (InterQuartile Range) which is basically the difference between first quantile and third quantile"
   ]
  },
  {
   "cell_type": "code",
   "execution_count": 8,
   "id": "85073122-f253-4730-9a7c-a053d7079113",
   "metadata": {},
   "outputs": [],
   "source": [
    "def is_outlier(data:pd.DataFrame,x):\n",
    "    serie = data[0]\n",
    "    quantiles = serie.quantile([0,1/4,2/4,3/4,4/4])\n",
    "    iqr = quantiles[3/4]-quantiles[1/4]\n",
    "    lower_limit= quantiles[1/4]-1.5*iqr\n",
    "    upper_limit= quantiles[3/4]+1.5*iqr\n",
    "    is_outlier = x<= lower_limit or x>=upper_limit\n",
    "    return is_outlier"
   ]
  },
  {
   "cell_type": "code",
   "execution_count": 9,
   "id": "795e2bf5-7632-4fba-9c76-58b3d08e3e9e",
   "metadata": {},
   "outputs": [
    {
     "name": "stdout",
     "output_type": "stream",
     "text": [
      "True\n"
     ]
    }
   ],
   "source": [
    "print(is_outlier(df,300))"
   ]
  },
  {
   "cell_type": "code",
   "execution_count": 10,
   "id": "5c8a0584-1d7c-408e-8217-04407a9d9f85",
   "metadata": {},
   "outputs": [
    {
     "name": "stdout",
     "output_type": "stream",
     "text": [
      "False\n"
     ]
    }
   ],
   "source": [
    "print(is_outlier(df,12))"
   ]
  },
  {
   "cell_type": "markdown",
   "id": "abb42e64-0a0b-4a81-aa84-1471239ce271",
   "metadata": {},
   "source": [
    "> For more info about box plots [Click here](./Box%20plot.ipynb)"
   ]
  }
 ],
 "metadata": {
  "kernelspec": {
   "display_name": "Python 3 (ipykernel)",
   "language": "python",
   "name": "python3"
  },
  "language_info": {
   "codemirror_mode": {
    "name": "ipython",
    "version": 3
   },
   "file_extension": ".py",
   "mimetype": "text/x-python",
   "name": "python",
   "nbconvert_exporter": "python",
   "pygments_lexer": "ipython3",
   "version": "3.12.7"
  }
 },
 "nbformat": 4,
 "nbformat_minor": 5
}
