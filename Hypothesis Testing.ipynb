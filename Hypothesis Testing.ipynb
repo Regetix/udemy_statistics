{
 "cells": [
  {
   "cell_type": "markdown",
   "id": "a0b1a4b8-a4bd-4a3e-81b7-26eb6b3dade6",
   "metadata": {},
   "source": [
    "# Definition"
   ]
  },
  {
   "cell_type": "markdown",
   "id": "6421f1f5-9a83-4c8a-af60-7fb028a12ccf",
   "metadata": {},
   "source": [
    "In order to provde or disprove anything first we need a hypothesis. First we have to set a Null Hypothesis which is the exacty contrary to the experiment expectation. For example we want to test Drugs A is good for health. There are three outcomes of consuming drug A:\n",
    "1. Positive effect: Which increases the overall health\n",
    "2. Neutral: Doesn't improve or degrade the overall health\n",
    "3. Negative: Disimproves the overall health.\n",
    "\n",
    "Since we have no clue which one of them might be, we have to test whether if it has any effect or not. So:\n",
    "- Null hypothesis(H0) will be: *Drug A has no effect on overall health*\n",
    "- Alternative hypothesis (H1): *Drug A affects the overall health*"
   ]
  },
  {
   "cell_type": "markdown",
   "id": "765f9249-6cc8-4991-b853-d4e81a09843b",
   "metadata": {},
   "source": [
    "| Null hypothesis (H0) | Alternative hypothesis(H1) |\n",
    "| -------------------- | -------------------------- |\n",
    "| $A=B$| $A>B$ |\n",
    "| $A\\le B$ | $A<B$ |\n",
    "| $A\\ge B$ |       |"
   ]
  },
  {
   "cell_type": "markdown",
   "id": "304486bf-1e4a-45d1-9485-2ed6cb842504",
   "metadata": {},
   "source": [
    "To prove our expected outcome we must first reject the Null Hypothesis"
   ]
  },
  {
   "cell_type": "code",
   "execution_count": null,
   "id": "5d0ff402-98ae-4ced-8c18-59bd8eb352ef",
   "metadata": {},
   "outputs": [],
   "source": []
  }
 ],
 "metadata": {
  "kernelspec": {
   "display_name": "Python 3 (ipykernel)",
   "language": "python",
   "name": "python3"
  },
  "language_info": {
   "codemirror_mode": {
    "name": "ipython",
    "version": 3
   },
   "file_extension": ".py",
   "mimetype": "text/x-python",
   "name": "python",
   "nbconvert_exporter": "python",
   "pygments_lexer": "ipython3",
   "version": "3.13.5"
  }
 },
 "nbformat": 4,
 "nbformat_minor": 5
}
